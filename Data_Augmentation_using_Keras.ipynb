{
  "nbformat": 4,
  "nbformat_minor": 0,
  "metadata": {
    "colab": {
      "name": "Data Augmentation using Keras",
      "provenance": [],
      "mount_file_id": "1wpqNuMMYZ6FaA6ubedih-H4Z6AuQzo0x",
      "authorship_tag": "ABX9TyP7yQIaYZmbpp4QhZSqTZCv",
      "include_colab_link": true
    },
    "kernelspec": {
      "name": "python3",
      "display_name": "Python 3"
    },
    "language_info": {
      "name": "python"
    },
    "accelerator": "GPU"
  },
  "cells": [
    {
      "cell_type": "markdown",
      "metadata": {
        "id": "view-in-github",
        "colab_type": "text"
      },
      "source": [
        "<a href=\"https://colab.research.google.com/github/AnayPanja/Data-Augmentation-using-Keras/blob/main/Data_Augmentation_using_Keras.ipynb\" target=\"_parent\"><img src=\"https://colab.research.google.com/assets/colab-badge.svg\" alt=\"Open In Colab\"/></a>"
      ]
    },
    {
      "cell_type": "code",
      "metadata": {
        "id": "lxGHGIKn-pUl"
      },
      "source": [
        "# Data Augmentation using Keras\n"
      ],
      "execution_count": 13,
      "outputs": []
    },
    {
      "cell_type": "code",
      "metadata": {
        "id": "tWY35yLNqMMe"
      },
      "source": [
        "from keras.preprocessing.image import ImageDataGenerator, array_to_img, img_to_array, load_img"
      ],
      "execution_count": 1,
      "outputs": []
    },
    {
      "cell_type": "code",
      "metadata": {
        "id": "5ITT8Bm_qYl3"
      },
      "source": [
        "datagen = ImageDataGenerator(\n",
        "       rotation_range=40,\n",
        "       width_shift_range=0.2,\n",
        "       height_shift_range=0.2,\n",
        "        horizontal_flip=True, \n",
        "        fill_mode='nearest',\n",
        "        shear_range=0.2,\n",
        "        zoom_range=0.2\n",
        ")"
      ],
      "execution_count": 6,
      "outputs": []
    },
    {
      "cell_type": "code",
      "metadata": {
        "id": "48QOJbLUqY25"
      },
      "source": [
        "img = load_img('/content/drive/MyDrive/Colab Notebooks/Data Set/cat_immage.jpg')\n",
        "x = img_to_array(img)\n",
        "x = x.reshape((1,)+x.shape)"
      ],
      "execution_count": 8,
      "outputs": []
    },
    {
      "cell_type": "code",
      "metadata": {
        "id": "LaZsUFBy54e2"
      },
      "source": [
        "i=0\n",
        "for batch in datagen.flow(x,batch_size=1,save_to_dir='/content/drive/MyDrive/Preview/ Data Augmentation img',save_prefix='cat',save_format='jpeg'):\n",
        "  i+=1\n",
        "  if i > 20:\n",
        "    break"
      ],
      "execution_count": 11,
      "outputs": []
    },
    {
      "cell_type": "code",
      "metadata": {
        "id": "sR_KnWC37zGT"
      },
      "source": [
        ""
      ],
      "execution_count": null,
      "outputs": []
    }
  ]
}